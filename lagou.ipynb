{
 "cells": [
  {
   "cell_type": "markdown",
   "metadata": {},
   "source": [
    "# 拉钩职位数据获取"
   ]
  },
  {
   "cell_type": "code",
   "execution_count": 1,
   "metadata": {},
   "outputs": [],
   "source": [
    "import requests as http\n",
    "from urllib import parse\n",
    "import time"
   ]
  },
  {
   "cell_type": "markdown",
   "metadata": {},
   "source": [
    "## 设定基本请求信息\n",
    "\n",
    "首先需要在浏览器中登录过，以便留下用户以及相关的 session、cookie 等信息。\n",
    "\n",
    " - apiUrl 请求结果的 Api url\n",
    " - pageUrl 搜索列表的 url\n",
    " - userAgent 浏览器用户标识\n",
    " - headers 基本请求头信息"
   ]
  },
  {
   "cell_type": "code",
   "execution_count": 35,
   "metadata": {
    "scrolled": true
   },
   "outputs": [
    {
     "name": "stdout",
     "output_type": "stream",
     "text": [
      "按公司搜索： https://www.lagou.com/jobs/list_%E8%85%BE%E8%AE%AF/p-city_215?&cl=false&fromSearch=true&labelWords=&suginput=\n",
      "{'requestId': None, 'resubmitToken': None, 'msg': None, 'success': True, 'content': {'showId': 'b356f38a004548c7b7317cf822c1f80e', 'hrInfoMap': {'6115389': {'userId': 8311764, 'canTalk': True, 'phone': None, 'positionName': '高级招聘经理', 'receiveEmail': None, 'portrait': 'i/image2/M01/0E/AC/CgotOVyhgc2AU_p3AABtO4vAHkg858.png', 'userLevel': 'G1', 'realName': 'RAY'}, '6012155': {'userId': 3309774, 'canTalk': True, 'phone': None, 'positionName': '招聘经理', 'receiveEmail': None, 'portrait': 'i/image2/M01/73/1D/CgotOVteuM-AbTGhAAAQzbW9OrU752.png', 'userLevel': 'G1', 'realName': '腾讯招聘'}, '6289276': {'userId': 8311764, 'canTalk': True, 'phone': None, 'positionName': '高级招聘经理', 'receiveEmail': None, 'portrait': 'i/image2/M01/0E/AC/CgotOVyhgc2AU_p3AABtO4vAHkg858.png', 'userLevel': 'G1', 'realName': 'RAY'}, '5527027': {'userId': 3309774, 'canTalk': True, 'phone': None, 'positionName': '招聘经理', 'receiveEmail': None, 'portrait': 'i/image2/M01/73/1D/CgotOVteuM-AbTGhAAAQzbW9OrU752.png', 'userLevel': 'G1', 'realName': '腾讯招聘'}, '6315881': {'userId': 8311764, 'canTalk': True, 'phone': None, 'positionName': '高级招聘经理', 'receiveEmail': None, 'portrait': 'i/image2/M01/0E/AC/CgotOVyhgc2AU_p3AABtO4vAHkg858.png', 'userLevel': 'G1', 'realName': 'RAY'}, '6114870': {'userId': 8311764, 'canTalk': True, 'phone': None, 'positionName': '高级招聘经理', 'receiveEmail': None, 'portrait': 'i/image2/M01/0E/AC/CgotOVyhgc2AU_p3AABtO4vAHkg858.png', 'userLevel': 'G1', 'realName': 'RAY'}, '6012271': {'userId': 3309774, 'canTalk': True, 'phone': None, 'positionName': '招聘经理', 'receiveEmail': None, 'portrait': 'i/image2/M01/73/1D/CgotOVteuM-AbTGhAAAQzbW9OrU752.png', 'userLevel': 'G1', 'realName': '腾讯招聘'}, '6315797': {'userId': 8311764, 'canTalk': True, 'phone': None, 'positionName': '高级招聘经理', 'receiveEmail': None, 'portrait': 'i/image2/M01/0E/AC/CgotOVyhgc2AU_p3AABtO4vAHkg858.png', 'userLevel': 'G1', 'realName': 'RAY'}, '5527043': {'userId': 3309774, 'canTalk': True, 'phone': None, 'positionName': '招聘经理', 'receiveEmail': None, 'portrait': 'i/image2/M01/73/1D/CgotOVteuM-AbTGhAAAQzbW9OrU752.png', 'userLevel': 'G1', 'realName': '腾讯招聘'}, '6286245': {'userId': 8311764, 'canTalk': True, 'phone': None, 'positionName': '高级招聘经理', 'receiveEmail': None, 'portrait': 'i/image2/M01/0E/AC/CgotOVyhgc2AU_p3AABtO4vAHkg858.png', 'userLevel': 'G1', 'realName': 'RAY'}, '6281220': {'userId': 8311764, 'canTalk': True, 'phone': None, 'positionName': '高级招聘经理', 'receiveEmail': None, 'portrait': 'i/image2/M01/0E/AC/CgotOVyhgc2AU_p3AABtO4vAHkg858.png', 'userLevel': 'G1', 'realName': 'RAY'}, '6404029': {'userId': 8311764, 'canTalk': True, 'phone': None, 'positionName': '高级招聘经理', 'receiveEmail': None, 'portrait': 'i/image2/M01/0E/AC/CgotOVyhgc2AU_p3AABtO4vAHkg858.png', 'userLevel': 'G1', 'realName': 'RAY'}, '6012358': {'userId': 3309774, 'canTalk': True, 'phone': None, 'positionName': '招聘经理', 'receiveEmail': None, 'portrait': 'i/image2/M01/73/1D/CgotOVteuM-AbTGhAAAQzbW9OrU752.png', 'userLevel': 'G1', 'realName': '腾讯招聘'}, '6115363': {'userId': 8311764, 'canTalk': True, 'phone': None, 'positionName': '高级招聘经理', 'receiveEmail': None, 'portrait': 'i/image2/M01/0E/AC/CgotOVyhgc2AU_p3AABtO4vAHkg858.png', 'userLevel': 'G1', 'realName': 'RAY'}, '6012164': {'userId': 3309774, 'canTalk': True, 'phone': None, 'positionName': '招聘经理', 'receiveEmail': None, 'portrait': 'i/image2/M01/73/1D/CgotOVteuM-AbTGhAAAQzbW9OrU752.png', 'userLevel': 'G1', 'realName': '腾讯招聘'}}, 'pageNo': 1, 'positionResult': {'positionName': None, 'totalCount': 1133, 'strategyProperty': {'name': 'dm-csearch-useLayeredDisplay', 'id': 0}, 'industryField': None, 'companySize': None, 'categoryTypeAndName': {'3': None}, 'resultSize': 15, 'queryAnalysisInfo': {'companyName': '腾讯', 'positionName': None, 'jobNature': None, 'industryName': None, 'usefulCompany': True}, 'hotLabels': None, 'hiTags': None, 'result': [{'companyId': 451, 'score': 0, 'positionId': 5527043, 'positionName': 'TEG-高级系统测试工程师', 'createTime': '2019-10-09 11:08:26', 'companyShortName': '腾讯', 'workYear': '5-10年', 'education': '不限', 'city': '深圳', 'companyLogo': 'image1/M00/00/03/CgYXBlTUV_qALGv0AABEuOJDipU378.jpg', 'jobNature': '全职', 'salary': '25k-50k', 'approve': 1, 'industryField': '社交', 'financeStage': '上市公司', 'positionAdvantage': '平台大，发展快，待遇好，福利棒', 'companySize': '2000人以上', 'companyLabelList': ['免费班车', '成长空间', '年度旅游', '岗位晋升'], 'publisherId': 3309774, 'district': '南山区', 'positionLables': ['白盒测试', '黑盒测试', '自动化测试'], 'industryLables': [], 'businessZones': ['大冲', '科技园'], 'formatCreateTime': '11:08发布', 'longitude': '113.952869', 'latitude': '22.53541', 'hitags': ['免费班车', '年轻团队', '学习机会', 'mac办公', '定期团建', '开工利是红包'], 'resumeProcessRate': 30, 'resumeProcessDay': 1, 'imState': 'today', 'lastLogin': 1570628426000, 'explain': None, 'plus': None, 'pcShow': 0, 'appShow': 0, 'deliver': 0, 'gradeDescription': None, 'promotionScoreExplain': None, 'firstType': '开发|测试|运维类', 'secondType': '测试', 'isSchoolJob': 0, 'subwayline': '2号线/蛇口线', 'stationname': '高新园', 'linestaion': '1号线/罗宝线_高新园;1号线/罗宝线_深大;2号线/蛇口线_科苑', 'thirdType': '测试开发', 'skillLables': ['白盒测试', '黑盒测试', '自动化测试'], 'isHotHire': 0, 'companyFullName': '腾讯科技（深圳）有限公司', 'adWord': 0}, {'companyId': 451, 'score': 0, 'positionId': 6012358, 'positionName': 'TEG-腾讯微校PHP高级开发工程师', 'createTime': '2019-10-09 11:08:22', 'companyShortName': '腾讯', 'workYear': '3-5年', 'education': '本科', 'city': '深圳', 'companyLogo': 'image1/M00/00/03/CgYXBlTUV_qALGv0AABEuOJDipU378.jpg', 'jobNature': '全职', 'salary': '30k-60k', 'approve': 1, 'industryField': '社交', 'financeStage': '上市公司', 'positionAdvantage': '平台大，发展快，待遇好，福利棒', 'companySize': '2000人以上', 'companyLabelList': ['免费班车', '成长空间', '年度旅游', '岗位晋升'], 'publisherId': 3309774, 'district': '南山区', 'positionLables': ['教育', '工具软件', 'PHP', 'MySQL', '平台'], 'industryLables': ['教育', '工具软件', 'PHP', 'MySQL', '平台'], 'businessZones': ['大冲', '科技园'], 'formatCreateTime': '11:08发布', 'longitude': '113.952869', 'latitude': '22.53541', 'hitags': ['免费班车', '年轻团队', '学习机会', 'mac办公', '定期团建', '开工利是红包'], 'resumeProcessRate': 30, 'resumeProcessDay': 1, 'imState': 'today', 'lastLogin': 1570628426000, 'explain': None, 'plus': None, 'pcShow': 0, 'appShow': 0, 'deliver': 0, 'gradeDescription': None, 'promotionScoreExplain': None, 'firstType': '开发|测试|运维类', 'secondType': '后端开发', 'isSchoolJob': 0, 'subwayline': '2号线/蛇口线', 'stationname': '高新园', 'linestaion': '1号线/罗宝线_高新园;1号线/罗宝线_深大;2号线/蛇口线_科苑', 'thirdType': 'PHP', 'skillLables': ['PHP', 'MySQL', '平台'], 'isHotHire': 0, 'companyFullName': '腾讯科技（深圳）有限公司', 'adWord': 0}, {'companyId': 451, 'score': 0, 'positionId': 6315881, 'positionName': 'TME-腾讯音乐标签库管理', 'createTime': '2019-10-08 16:39:19', 'companyShortName': '腾讯', 'workYear': '1-3年', 'education': '本科', 'city': '深圳', 'companyLogo': 'image1/M00/00/03/CgYXBlTUV_qALGv0AABEuOJDipU378.jpg', 'jobNature': '全职', 'salary': '15k-20k', 'approve': 1, 'industryField': '社交', 'financeStage': '上市公司', 'positionAdvantage': '鹅厂福利；免费班车；健身房', 'companySize': '2000人以上', 'companyLabelList': ['免费班车', '成长空间', '年度旅游', '岗位晋升'], 'publisherId': 8311764, 'district': '南山区', 'positionLables': ['音乐', '分类信息', '内容运营', '数据分析'], 'industryLables': ['音乐', '分类信息', '内容运营', '数据分析'], 'businessZones': None, 'formatCreateTime': '1天前发布', 'longitude': '113.93362', 'latitude': '22.540719', 'hitags': ['免费班车', '年轻团队', '学习机会', 'mac办公', '定期团建', '开工利是红包'], 'resumeProcessRate': 54, 'resumeProcessDay': 1, 'imState': 'today', 'lastLogin': 1570620204000, 'explain': None, 'plus': None, 'pcShow': 0, 'appShow': 0, 'deliver': 0, 'gradeDescription': None, 'promotionScoreExplain': None, 'firstType': '运营|编辑|客服类', 'secondType': '运营', 'isSchoolJob': 0, 'subwayline': '1号线/罗宝线', 'stationname': '桃园', 'linestaion': '1号线/罗宝线_深大;1号线/罗宝线_桃园', 'thirdType': '产品运营', 'skillLables': ['内容运营', '数据分析'], 'isHotHire': 0, 'companyFullName': '腾讯科技（深圳）有限公司', 'adWord': 0}, {'companyId': 451, 'score': 0, 'positionId': 6289276, 'positionName': 'TME-全民K歌社区产品策划', 'createTime': '2019-10-08 16:39:21', 'companyShortName': '腾讯', 'workYear': '3-5年', 'education': '本科', 'city': '深圳', 'companyLogo': 'image1/M00/00/03/CgYXBlTUV_qALGv0AABEuOJDipU378.jpg', 'jobNature': '全职', 'salary': '15k-25k', 'approve': 1, 'industryField': '社交', 'financeStage': '上市公司', 'positionAdvantage': '鹅厂福利；免费班车；健身房', 'companySize': '2000人以上', 'companyLabelList': ['免费班车', '成长空间', '年度旅游', '岗位晋升'], 'publisherId': 8311764, 'district': '南山区', 'positionLables': ['社交', '移动互联网', '数据分析', '产品策划'], 'industryLables': ['社交', '移动互联网', '数据分析', '产品策划'], 'businessZones': None, 'formatCreateTime': '1天前发布', 'longitude': '113.93362', 'latitude': '22.540719', 'hitags': ['免费班车', '年轻团队', '学习机会', 'mac办公', '定期团建', '开工利是红包'], 'resumeProcessRate': 54, 'resumeProcessDay': 1, 'imState': 'today', 'lastLogin': 1570620204000, 'explain': None, 'plus': None, 'pcShow': 0, 'appShow': 0, 'deliver': 0, 'gradeDescription': None, 'promotionScoreExplain': None, 'firstType': '产品|需求|项目类', 'secondType': '产品经理', 'isSchoolJob': 0, 'subwayline': '1号线/罗宝线', 'stationname': '桃园', 'linestaion': '1号线/罗宝线_深大;1号线/罗宝线_桃园', 'thirdType': '产品经理', 'skillLables': ['数据分析', '产品策划'], 'isHotHire': 0, 'companyFullName': '腾讯科技（深圳）有限公司', 'adWord': 0}, {'companyId': 451, 'score': 0, 'positionId': 6281220, 'positionName': 'TME-全民k歌海外产品经理', 'createTime': '2019-10-08 16:39:20', 'companyShortName': '腾讯', 'workYear': '1-3年', 'education': '本科', 'city': '深圳', 'companyLogo': 'image1/M00/00/03/CgYXBlTUV_qALGv0AABEuOJDipU378.jpg', 'jobNature': '全职', 'salary': '15k-25k', 'approve': 1, 'industryField': '社交', 'financeStage': '上市公司', 'positionAdvantage': '鹅厂福利；班车；下午茶', 'companySize': '2000人以上', 'companyLabelList': ['免费班车', '成长空间', '年度旅游', '岗位晋升'], 'publisherId': 8311764, 'district': '南山区', 'positionLables': ['移动互联网', '音乐', '产品策划', '数据分析', '社交/SNS', '需求分析'], 'industryLables': ['移动互联网', '音乐', '产品策划', '数据分析', '社交/SNS', '需求分析'], 'businessZones': None, 'formatCreateTime': '1天前发布', 'longitude': '113.93362', 'latitude': '22.540719', 'hitags': ['免费班车', '年轻团队', '学习机会', 'mac办公', '定期团建', '开工利是红包'], 'resumeProcessRate': 54, 'resumeProcessDay': 1, 'imState': 'today', 'lastLogin': 1570620204000, 'explain': None, 'plus': None, 'pcShow': 0, 'appShow': 0, 'deliver': 0, 'gradeDescription': None, 'promotionScoreExplain': None, 'firstType': '产品|需求|项目类', 'secondType': '产品经理', 'isSchoolJob': 0, 'subwayline': '1号线/罗宝线', 'stationname': '桃园', 'linestaion': '1号线/罗宝线_深大;1号线/罗宝线_桃园', 'thirdType': '产品经理', 'skillLables': ['产品策划', '数据分析', '社交/SNS', '需求分析'], 'isHotHire': 0, 'companyFullName': '腾讯科技（深圳）有限公司', 'adWord': 0}, {'companyId': 451, 'score': 0, 'positionId': 6114870, 'positionName': '安全技术-后台开发高级工程师', 'createTime': '2019-10-08 16:39:20', 'companyShortName': '腾讯', 'workYear': '不限', 'education': '大专', 'city': '深圳', 'companyLogo': 'image1/M00/00/03/CgYXBlTUV_qALGv0AABEuOJDipU378.jpg', 'jobNature': '全职', 'salary': '20k-40k', 'approve': 1, 'industryField': '社交', 'financeStage': '上市公司', 'positionAdvantage': '免费班车；员工食堂；健身房；鹅厂福利', 'companySize': '2000人以上', 'companyLabelList': ['免费班车', '成长空间', '年度旅游', '岗位晋升'], 'publisherId': 8311764, 'district': '南山区', 'positionLables': ['移动互联网', '后端', 'C', 'C++'], 'industryLables': ['移动互联网', '后端', 'C', 'C++'], 'businessZones': None, 'formatCreateTime': '1天前发布', 'longitude': '113.93362', 'latitude': '22.540719', 'hitags': ['免费班车', '年轻团队', '学习机会', 'mac办公', '定期团建', '开工利是红包'], 'resumeProcessRate': 54, 'resumeProcessDay': 1, 'imState': 'today', 'lastLogin': 1570620204000, 'explain': None, 'plus': None, 'pcShow': 0, 'appShow': 0, 'deliver': 0, 'gradeDescription': None, 'promotionScoreExplain': None, 'firstType': '开发|测试|运维类', 'secondType': '后端开发', 'isSchoolJob': 0, 'subwayline': '1号线/罗宝线', 'stationname': '桃园', 'linestaion': '1号线/罗宝线_深大;1号线/罗宝线_桃园', 'thirdType': 'C|C++', 'skillLables': ['后端', 'C', 'C++'], 'isHotHire': 0, 'companyFullName': '腾讯科技（深圳）有限公司', 'adWord': 0}, {'companyId': 451, 'score': 0, 'positionId': 6115363, 'positionName': 'TME-全民K歌图形图像算法工程师（深圳）&nbsp;', 'createTime': '2019-10-08 16:39:20', 'companyShortName': '腾讯', 'workYear': '3-5年', 'education': '本科', 'city': '深圳', 'companyLogo': 'image1/M00/00/03/CgYXBlTUV_qALGv0AABEuOJDipU378.jpg', 'jobNature': '全职', 'salary': '20k-40k', 'approve': 1, 'industryField': '社交', 'financeStage': '上市公司', 'positionAdvantage': '大厂经验，广阔的发展平台', 'companySize': '2000人以上', 'companyLabelList': ['免费班车', '成长空间', '年度旅游', '岗位晋升'], 'publisherId': 8311764, 'district': '南山区', 'positionLables': ['计算机视觉', '图像处理', '算法'], 'industryLables': [], 'businessZones': None, 'formatCreateTime': '1天前发布', 'longitude': '113.93362', 'latitude': '22.540719', 'hitags': ['免费班车', '年轻团队', '学习机会', 'mac办公', '定期团建', '开工利是红包'], 'resumeProcessRate': 54, 'resumeProcessDay': 1, 'imState': 'today', 'lastLogin': 1570620204000, 'explain': None, 'plus': None, 'pcShow': 0, 'appShow': 0, 'deliver': 0, 'gradeDescription': None, 'promotionScoreExplain': None, 'firstType': '开发|测试|运维类', 'secondType': '人工智能', 'isSchoolJob': 0, 'subwayline': '1号线/罗宝线', 'stationname': '桃园', 'linestaion': '1号线/罗宝线_深大;1号线/罗宝线_桃园', 'thirdType': '图像算法', 'skillLables': ['计算机视觉', '图像处理', '算法'], 'isHotHire': 0, 'companyFullName': '腾讯科技（深圳）有限公司', 'adWord': 0}, {'companyId': 451, 'score': 0, 'positionId': 6115389, 'positionName': '用户推荐算法工程师', 'createTime': '2019-10-08 16:39:20', 'companyShortName': '腾讯', 'workYear': '3-5年', 'education': '硕士', 'city': '深圳', 'companyLogo': 'image1/M00/00/03/CgYXBlTUV_qALGv0AABEuOJDipU378.jpg', 'jobNature': '全职', 'salary': '20k-40k', 'approve': 1, 'industryField': '社交', 'financeStage': '上市公司', 'positionAdvantage': '大厂经验，广阔的发展平台', 'companySize': '2000人以上', 'companyLabelList': ['免费班车', '成长空间', '年度旅游', '岗位晋升'], 'publisherId': 8311764, 'district': '南山区', 'positionLables': ['移动互联网', '大数据', 'C++', '算法', 'C', 'Hadoop'], 'industryLables': ['移动互联网', '大数据', 'C++', '算法', 'C', 'Hadoop'], 'businessZones': None, 'formatCreateTime': '1天前发布', 'longitude': '113.93362', 'latitude': '22.540719', 'hitags': ['免费班车', '年轻团队', '学习机会', 'mac办公', '定期团建', '开工利是红包'], 'resumeProcessRate': 54, 'resumeProcessDay': 1, 'imState': 'today', 'lastLogin': 1570620204000, 'explain': None, 'plus': None, 'pcShow': 0, 'appShow': 0, 'deliver': 0, 'gradeDescription': None, 'promotionScoreExplain': None, 'firstType': '开发|测试|运维类', 'secondType': '后端开发', 'isSchoolJob': 0, 'subwayline': '1号线/罗宝线', 'stationname': '桃园', 'linestaion': '1号线/罗宝线_深大;1号线/罗宝线_桃园', 'thirdType': '推荐算法', 'skillLables': ['C++', '算法', 'C', 'Hadoop'], 'isHotHire': 0, 'companyFullName': '腾讯科技（深圳）有限公司', 'adWord': 0}, {'companyId': 451, 'score': 0, 'positionId': 6012155, 'positionName': 'TEG-腾讯乐享PHP开发工程师（深圳）', 'createTime': '2019-10-09 11:08:56', 'companyShortName': '腾讯', 'workYear': '3-5年', 'education': '本科', 'city': '深圳', 'companyLogo': 'image1/M00/00/03/CgYXBlTUV_qALGv0AABEuOJDipU378.jpg', 'jobNature': '全职', 'salary': '30k-60k', 'approve': 1, 'industryField': '社交', 'financeStage': '上市公司', 'positionAdvantage': '平台大，发展快，待遇好，福利棒', 'companySize': '2000人以上', 'companyLabelList': ['免费班车', '成长空间', '年度旅游', '岗位晋升'], 'publisherId': 3309774, 'district': '南山区', 'positionLables': ['分类信息', '工具软件', '后端', 'PHP', '系统架构'], 'industryLables': ['分类信息', '工具软件', '后端', 'PHP', '系统架构'], 'businessZones': ['大冲', '科技园'], 'formatCreateTime': '11:08发布', 'longitude': '113.952869', 'latitude': '22.53541', 'hitags': ['免费班车', '年轻团队', '学习机会', 'mac办公', '定期团建', '开工利是红包'], 'resumeProcessRate': 30, 'resumeProcessDay': 1, 'imState': 'today', 'lastLogin': 1570628426000, 'explain': None, 'plus': None, 'pcShow': 0, 'appShow': 0, 'deliver': 0, 'gradeDescription': None, 'promotionScoreExplain': None, 'firstType': '开发|测试|运维类', 'secondType': '后端开发', 'isSchoolJob': 0, 'subwayline': '2号线/蛇口线', 'stationname': '高新园', 'linestaion': '1号线/罗宝线_高新园;1号线/罗宝线_深大;2号线/蛇口线_科苑', 'thirdType': 'PHP', 'skillLables': ['后端', 'PHP', '系统架构'], 'isHotHire': 0, 'companyFullName': '腾讯科技（深圳）有限公司', 'adWord': 0}, {'companyId': 451, 'score': 0, 'positionId': 6404029, 'positionName': '海外自投优化师', 'createTime': '2019-10-08 16:39:20', 'companyShortName': '腾讯', 'workYear': '1-3年', 'education': '本科', 'city': '深圳', 'companyLogo': 'image1/M00/00/03/CgYXBlTUV_qALGv0AABEuOJDipU378.jpg', 'jobNature': '全职', 'salary': '12k-20k', 'approve': 1, 'industryField': '社交', 'financeStage': '上市公司', 'positionAdvantage': '鹅厂福利；免费班车；健身房', 'companySize': '2000人以上', 'companyLabelList': ['免费班车', '成长空间', '年度旅游', '岗位晋升'], 'publisherId': 8311764, 'district': '南山区', 'positionLables': ['移动互联网'], 'industryLables': ['移动互联网'], 'businessZones': None, 'formatCreateTime': '1天前发布', 'longitude': '113.93362', 'latitude': '22.540719', 'hitags': ['免费班车', '年轻团队', '学习机会', 'mac办公', '定期团建', '开工利是红包'], 'resumeProcessRate': 54, 'resumeProcessDay': 1, 'imState': 'today', 'lastLogin': 1570620204000, 'explain': None, 'plus': None, 'pcShow': 0, 'appShow': 0, 'deliver': 0, 'gradeDescription': None, 'promotionScoreExplain': None, 'firstType': '市场|商务类', 'secondType': '品牌|广告', 'isSchoolJob': 0, 'subwayline': '1号线/罗宝线', 'stationname': '桃园', 'linestaion': '1号线/罗宝线_深大;1号线/罗宝线_桃园', 'thirdType': '广告投放', 'skillLables': [], 'isHotHire': 0, 'companyFullName': '腾讯科技（深圳）有限公司', 'adWord': 0}, {'companyId': 451, 'score': 0, 'positionId': 6012164, 'positionName': 'TEG - 码客社区Web前端开发工程师', 'createTime': '2019-10-09 11:08:48', 'companyShortName': '腾讯', 'workYear': '3-5年', 'education': '本科', 'city': '深圳', 'companyLogo': 'image1/M00/00/03/CgYXBlTUV_qALGv0AABEuOJDipU378.jpg', 'jobNature': '全职', 'salary': '30k-50k', 'approve': 1, 'industryField': '社交', 'financeStage': '上市公司', 'positionAdvantage': '大平台，福利好', 'companySize': '2000人以上', 'companyLabelList': ['免费班车', '成长空间', '年度旅游', '岗位晋升'], 'publisherId': 3309774, 'district': '南山区', 'positionLables': ['Javascript', 'React native', 'Web前端', 'Node.js'], 'industryLables': [], 'businessZones': None, 'formatCreateTime': '11:08发布', 'longitude': '113.93362', 'latitude': '22.540719', 'hitags': ['免费班车', '年轻团队', '学习机会', 'mac办公', '定期团建', '开工利是红包'], 'resumeProcessRate': 30, 'resumeProcessDay': 1, 'imState': 'today', 'lastLogin': 1570628426000, 'explain': None, 'plus': None, 'pcShow': 0, 'appShow': 0, 'deliver': 0, 'gradeDescription': None, 'promotionScoreExplain': None, 'firstType': '开发|测试|运维类', 'secondType': '前端开发', 'isSchoolJob': 0, 'subwayline': '1号线/罗宝线', 'stationname': '桃园', 'linestaion': '1号线/罗宝线_深大;1号线/罗宝线_桃园', 'thirdType': 'WEB前端', 'skillLables': ['Javascript', 'React native', 'Web前端', 'Node.js'], 'isHotHire': 0, 'companyFullName': '腾讯科技（深圳）有限公司', 'adWord': 0}, {'companyId': 451, 'score': 0, 'positionId': 6012271, 'positionName': 'TEG-腾讯TAPD 高级运维开发工程师', 'createTime': '2019-10-09 11:08:41', 'companyShortName': '腾讯', 'workYear': '3-5年', 'education': '本科', 'city': '深圳', 'companyLogo': 'image1/M00/00/03/CgYXBlTUV_qALGv0AABEuOJDipU378.jpg', 'jobNature': '全职', 'salary': '25k-50k', 'approve': 1, 'industryField': '社交', 'financeStage': '上市公司', 'positionAdvantage': '平台大，发展快，待遇好，福利棒', 'companySize': '2000人以上', 'companyLabelList': ['免费班车', '成长空间', '年度旅游', '岗位晋升'], 'publisherId': 3309774, 'district': '南山区', 'positionLables': ['运维', 'DevOps', 'Openstack'], 'industryLables': [], 'businessZones': ['大冲', '科技园'], 'formatCreateTime': '11:08发布', 'longitude': '113.952869', 'latitude': '22.53541', 'hitags': ['免费班车', '年轻团队', '学习机会', 'mac办公', '定期团建', '开工利是红包'], 'resumeProcessRate': 30, 'resumeProcessDay': 1, 'imState': 'today', 'lastLogin': 1570628426000, 'explain': None, 'plus': None, 'pcShow': 0, 'appShow': 0, 'deliver': 0, 'gradeDescription': None, 'promotionScoreExplain': None, 'firstType': '开发|测试|运维类', 'secondType': '运维', 'isSchoolJob': 0, 'subwayline': '2号线/蛇口线', 'stationname': '高新园', 'linestaion': '1号线/罗宝线_高新园;1号线/罗宝线_深大;2号线/蛇口线_科苑', 'thirdType': '运维开发工程师', 'skillLables': ['运维', 'DevOps', 'Openstack'], 'isHotHire': 0, 'companyFullName': '腾讯科技（深圳）有限公司', 'adWord': 0}, {'companyId': 451, 'score': 0, 'positionId': 6315797, 'positionName': 'TME-QQ音乐商业化产品运营', 'createTime': '2019-10-08 16:39:20', 'companyShortName': '腾讯', 'workYear': '3-5年', 'education': '本科', 'city': '深圳', 'companyLogo': 'image1/M00/00/03/CgYXBlTUV_qALGv0AABEuOJDipU378.jpg', 'jobNature': '全职', 'salary': '15k-20k', 'approve': 1, 'industryField': '社交', 'financeStage': '上市公司', 'positionAdvantage': '鹅厂福利；免费班车；健身房', 'companySize': '2000人以上', 'companyLabelList': ['免费班车', '成长空间', '年度旅游', '岗位晋升'], 'publisherId': 8311764, 'district': '南山区', 'positionLables': ['商业产品', '数据分析', '项目管理'], 'industryLables': [], 'businessZones': None, 'formatCreateTime': '1天前发布', 'longitude': '113.93362', 'latitude': '22.540719', 'hitags': ['免费班车', '年轻团队', '学习机会', 'mac办公', '定期团建', '开工利是红包'], 'resumeProcessRate': 54, 'resumeProcessDay': 1, 'imState': 'today', 'lastLogin': 1570620204000, 'explain': None, 'plus': None, 'pcShow': 0, 'appShow': 0, 'deliver': 0, 'gradeDescription': None, 'promotionScoreExplain': None, 'firstType': '产品|需求|项目类', 'secondType': '产品经理', 'isSchoolJob': 0, 'subwayline': '1号线/罗宝线', 'stationname': '桃园', 'linestaion': '1号线/罗宝线_深大;1号线/罗宝线_桃园', 'thirdType': '产品经理', 'skillLables': ['商业产品', '数据分析', '项目管理'], 'isHotHire': 0, 'companyFullName': '腾讯科技（深圳）有限公司', 'adWord': 0}, {'companyId': 451, 'score': 0, 'positionId': 6286245, 'positionName': 'TME-腾讯音乐运营开发工程师', 'createTime': '2019-10-08 16:39:19', 'companyShortName': '腾讯', 'workYear': '3-5年', 'education': '本科', 'city': '深圳', 'companyLogo': 'image1/M00/00/03/CgYXBlTUV_qALGv0AABEuOJDipU378.jpg', 'jobNature': '全职', 'salary': '15k-30k', 'approve': 1, 'industryField': '社交', 'financeStage': '上市公司', 'positionAdvantage': '免费班车；员工食堂；鹅厂福利', 'companySize': '2000人以上', 'companyLabelList': ['免费班车', '成长空间', '年度旅游', '岗位晋升'], 'publisherId': 8311764, 'district': '南山区', 'positionLables': ['运维', 'Linux'], 'industryLables': [], 'businessZones': None, 'formatCreateTime': '1天前发布', 'longitude': '113.93362', 'latitude': '22.540719', 'hitags': ['免费班车', '年轻团队', '学习机会', 'mac办公', '定期团建', '开工利是红包'], 'resumeProcessRate': 54, 'resumeProcessDay': 1, 'imState': 'today', 'lastLogin': 1570620204000, 'explain': None, 'plus': None, 'pcShow': 0, 'appShow': 0, 'deliver': 0, 'gradeDescription': None, 'promotionScoreExplain': None, 'firstType': '开发|测试|运维类', 'secondType': '运维', 'isSchoolJob': 0, 'subwayline': '1号线/罗宝线', 'stationname': '桃园', 'linestaion': '1号线/罗宝线_深大;1号线/罗宝线_桃园', 'thirdType': '运维开发工程师', 'skillLables': ['运维', 'Linux'], 'isHotHire': 0, 'companyFullName': '腾讯科技（深圳）有限公司', 'adWord': 0}, {'companyId': 451, 'score': 0, 'positionId': 5527027, 'positionName': 'TEG-云存储高级研发工程师', 'createTime': '2019-10-09 11:08:09', 'companyShortName': '腾讯', 'workYear': '5-10年', 'education': '本科', 'city': '深圳', 'companyLogo': 'image1/M00/00/03/CgYXBlTUV_qALGv0AABEuOJDipU378.jpg', 'jobNature': '全职', 'salary': '35k-65k', 'approve': 1, 'industryField': '社交', 'financeStage': '上市公司', 'positionAdvantage': '平台大，发展快，待遇好，福利棒', 'companySize': '2000人以上', 'companyLabelList': ['免费班车', '成长空间', '年度旅游', '岗位晋升'], 'publisherId': 3309774, 'district': '南山区', 'positionLables': ['架构师', '数据库', 'Linux/Unix', 'C++'], 'industryLables': [], 'businessZones': ['大冲', '科技园'], 'formatCreateTime': '11:08发布', 'longitude': '113.952869', 'latitude': '22.53541', 'hitags': ['免费班车', '年轻团队', '学习机会', 'mac办公', '定期团建', '开工利是红包'], 'resumeProcessRate': 30, 'resumeProcessDay': 1, 'imState': 'today', 'lastLogin': 1570628426000, 'explain': None, 'plus': None, 'pcShow': 0, 'appShow': 0, 'deliver': 0, 'gradeDescription': None, 'promotionScoreExplain': None, 'firstType': '开发|测试|运维类', 'secondType': '后端开发', 'isSchoolJob': 0, 'subwayline': '2号线/蛇口线', 'stationname': '高新园', 'linestaion': '1号线/罗宝线_高新园;1号线/罗宝线_深大;2号线/蛇口线_科苑', 'thirdType': 'C|C++', 'skillLables': ['架构师', '数据库', 'Linux/Unix', 'C++'], 'isHotHire': 0, 'companyFullName': '腾讯科技（深圳）有限公司', 'adWord': 0}], 'locationInfo': {'city': '深圳', 'district': None, 'queryByGisCode': False, 'locationCode': None, 'isAllhotBusinessZone': False, 'businessZone': None}}, 'pageSize': 15}, 'code': 0}\n"
     ]
    }
   ],
   "source": [
    "# 请求结果的 Api url\n",
    "apiUrl = 'https://www.lagou.com/jobs/positionAjax.json?city=%E6%B7%B1%E5%9C%B3&needAddtionalResult=false'\n",
    "\n",
    "# 浏览器用户标识\n",
    "userAgent = 'Mozilla/5.0 (Windows NT 10.0; WOW64) AppleWebKit/537.36 (KHTML, like Gecko) Chrome/70.0.3538.25 Safari/537.36 Core/1.70.3732.400 QQBrowser/10.5.3819.400'\n",
    "\n",
    "# 公司\n",
    "companyList = ['腾讯']\n",
    "# , '阿里巴巴', '字节跳动', '美团', '腾讯'\n",
    "# 职位名称\n",
    "jobNames = ['web前端']\n",
    "#, 'html51', 'JavaScript', '前端开发', '前端'\n",
    "\n",
    "# 页面的 url\n",
    "# pageUrl = 'https://www.lagou.com/jobs/list_'+  +'/p-city_215?&cl=false&fromSearch=true&labelWords=&suginput='\n",
    "\n",
    "\n",
    "# 请求头信息\n",
    "def headers (pageUrl):\n",
    "    return {\n",
    "    'Accept': 'application/json, text/javascript, */*; q=0.01',\n",
    "    'Referer': pageUrl,\n",
    "    'User-Agent': userAgent,\n",
    "\n",
    "    #'Cookie': cookieStr,\n",
    "    #'Content-Type': 'application/x-www-form-urlencoded; charset=UTF-8',\n",
    "    #'DNT': 1,\n",
    "    #'Host': 'www.lagou.com',\n",
    "    #'Origin': 'https://www.lagou.com',\n",
    "    #'X-Anit-Forge-Code': 0,\n",
    "    #'X-Anit-Forge-Token': 'None',\n",
    "    #'X-Requested-With': 'XMLHttpRequest'\n",
    "}\n",
    "\n",
    "# # 循环职位\n",
    "# for jobName in jobNames:\n",
    "#     # 通过首页 label 进入的列表页\n",
    "#     labelPage = 'https://www.lagou.com/zhaopin/'+ parse.quote(jobName) +'/?labelWords=label'\n",
    "#     print('首页标签：', labelPage)\n",
    "#     time.sleep(1)\n",
    "\n",
    "# 循环公司\n",
    "for companyName in companyList:\n",
    "    pageUrl = 'https://www.lagou.com/jobs/list_'+ parse.quote(companyName) +'/p-city_215?&cl=false&fromSearch=true&labelWords=&suginput='\n",
    "    print('按公司搜索：', pageUrl)\n",
    "#         time.sleep(1)\n",
    "#         res = http.get(pageUrl, headers=headers(labelPage), cookies=userCookie, timeout=5)\n",
    "#         res.encoding='utf-8'\n",
    "\n",
    "    reqSession = http.Session()\n",
    "    # 请求页面获取 session\n",
    "    reqSession.get(pageUrl, headers=headers(pageUrl))\n",
    "    # 用户的 cookies\n",
    "    userCookie = reqSession.cookies\n",
    "\n",
    "    # 获取前 n 页信息\n",
    "    for i in range(1):\n",
    "        params = {\n",
    "            'first': 'true',\n",
    "            'pn': i,\n",
    "            'kd': companyName\n",
    "        }\n",
    "#             time.sleep(2)\n",
    "        # 访问 api 列表\n",
    "        resApi = http.post(apiUrl, data=params, headers=headers(pageUrl), cookies=userCookie, timeout=5)\n",
    "        resApi.encoding='utf-8'\n",
    "        print(resApi.json())\n"
   ]
  },
  {
   "cell_type": "code",
   "execution_count": 40,
   "metadata": {},
   "outputs": [
    {
     "name": "stdout",
     "output_type": "stream",
     "text": [
      "{'status': False, 'msg': '您操作太频繁,请稍后再访问', 'clientIp': '113.118.115.60', 'state': 2402}\n"
     ]
    }
   ],
   "source": [
    "pageUrl = 'https://www.lagou.com/jobs/list_%E8%85%BE%E8%AE%AF/p-city_215?&cl=false&fromSearch=true&labelWords=&suginput='\n",
    "headers = {\n",
    "    'Accept': 'application/json, text/javascript, */*; q=0.01',\n",
    "    'Referer': pageUrl,\n",
    "    'User-Agent': userAgent,\n",
    "    'Cookie': 'JSESSIONID=ABAAABAAAGFABEF99B789F93097FC49564E7DBBB9B9D9BD; user_trace_token=20191009232002-1a5e19ce-9b3d-494a-b516-b82a7f8e0141; WEBTJ-ID=20191009232007-16db11b1de93b0-0d21ac04f6f4f4-34564a75-2073600-16db11b1deaa21; _ga=GA1.2.1173999181.1570634408; _gid=GA1.2.983923892.1570634408; LGSID=20191009232004-44dfaef9-eaa8-11e9-999b-525400f775ce; PRE_UTM=; PRE_HOST=localhost; PRE_LAND=https%3A%2F%2Fwww.lagou.com%2Fjobs%2Flist_%25E8%2585%25BE%25E8%25AE%25AF%2Fp-city_215%3F%26cl%3Dfalse%26fromSearch%3Dtrue%26labelWords%3D%26suginput%3D; LGUID=20191009232004-44dfb1bf-eaa8-11e9-999b-525400f775ce; sajssdk_2015_cross_new_user=1; sensorsdata2015jssdkcross=%7B%22distinct_id%22%3A%2216db11b203e92c-026be5667cab72-34564a75-2073600-16db11b20401d3%22%2C%22%24device_id%22%3A%2216db11b203e92c-026be5667cab72-34564a75-2073600-16db11b20401d3%22%2C%22props%22%3A%7B%22%24latest_traffic_source_type%22%3A%22%E5%BC%95%E8%8D%90%E6%B5%81%E9%87%8F%22%2C%22%24latest_referrer%22%3A%22http%3A%2F%2Flocalhost%3A8888%2Fnotebooks%2Flagou.ipynb%22%2C%22%24latest_referrer_host%22%3A%22localhost%22%2C%22%24latest_search_keyword%22%3A%22%E6%9C%AA%E5%8F%96%E5%88%B0%E5%80%BC%22%7D%7D; gate_login_token=d12aa647248fb10a519d03a2215d65714a432c41c7438130; LG_LOGIN_USER_ID=bc09905f5c33996cc63af42c9b14a5633502071acdd26234; LG_HAS_LOGIN=1; _putrc=AE45C9FB6B87A9D6; login=true; unick=%E6%9E%97%E5%B8%85; showExpriedIndex=1; showExpriedCompanyHome=1; showExpriedMyPublish=1; hasDeliver=33; privacyPolicyPopup=false; index_location_city=%E6%B7%B1%E5%9C%B3; TG-TRACK-CODE=index_favorite; X_HTTP_TOKEN=ac86dc1e5885a5548665360751231c65b11fe79311; _gat=1; Hm_lvt_4233e74dff0ae5bd0a3d81c6ccf756e6=1570634650,1570634718,1570634722,1570635673; Hm_lpvt_4233e74dff0ae5bd0a3d81c6ccf756e6=1570635673; LGRID=20191009234109-37044d44-eaab-11e9-a57a-5254005c3644; SEARCH_ID=3326c0a939f44650aeac5846b7678d6a'\n",
    "}\n",
    "\n",
    "# reqSession = http.Session()\n",
    "# # 请求页面获取 session\n",
    "# reqSession.get(pageUrl, headers=headers)\n",
    "# # 用户的 cookies\n",
    "# userCookie = reqSession.cookies\n",
    "\n",
    "# print(reqSession.cookies.get_dict())\n",
    "\n",
    "apiUrl = 'https://www.lagou.com/jobs/positionAjax.json?city=%E6%B7%B1%E5%9C%B3&needAddtionalResult=false'\n",
    "params = {\n",
    "    'first': 'true',\n",
    "    'pn': 1,\n",
    "    'kd': '腾讯'\n",
    "}\n",
    "res = http.post(apiUrl, data=params, headers=headers, cookies=userCookie, timeout=5)\n",
    "res.encoding='utf-8'\n",
    "print(res.json())"
   ]
  },
  {
   "cell_type": "code",
   "execution_count": null,
   "metadata": {},
   "outputs": [],
   "source": []
  }
 ],
 "metadata": {
  "file_extension": ".py",
  "kernelspec": {
   "display_name": "Python 3",
   "language": "python",
   "name": "python3"
  },
  "language_info": {
   "codemirror_mode": {
    "name": "ipython",
    "version": 3
   },
   "file_extension": ".py",
   "mimetype": "text/x-python",
   "name": "python",
   "nbconvert_exporter": "python",
   "pygments_lexer": "ipython3",
   "version": "3.6.4"
  },
  "mimetype": "text/x-python",
  "name": "python",
  "npconvert_exporter": "python",
  "pygments_lexer": "ipython3",
  "version": 3
 },
 "nbformat": 4,
 "nbformat_minor": 2
}
